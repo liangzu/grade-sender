{
 "cells": [
  {
   "cell_type": "code",
   "execution_count": 1,
   "metadata": {
    "collapsed": true
   },
   "outputs": [],
   "source": [
    "import pandas as pd\n",
    "import smtplib\n",
    "from email.mime.text import MIMEText\n",
    "import time"
   ]
  },
  {
   "cell_type": "code",
   "execution_count": 2,
   "metadata": {},
   "outputs": [],
   "source": [
    "DEBUG = True\n",
    "\n",
    "## sender's config\n",
    "user_name = \"penglz@xxx\"\n",
    "password = \"secret\"\n",
    "smtp_server_addr = \"smtp.xxx\"\n",
    "smtp_port = 587\n",
    "\n",
    "\n",
    "## email content config\n",
    "quiz_distribution = \"##distribution##\"\n",
    "\n",
    "k = 1\n",
    "quiz_on_week_k = \"Quiz on week {}\".format(k)\n",
    "title = \"#SI112: Advanced Geometry# Your Quiz Score on Week {}\".format(k)\n",
    "\n",
    "content_template = \"\"\"\n",
    "        <html>\n",
    "          <head></head>\n",
    "          <body>\n",
    "            <p>Hi {},<br><br>\n",
    "               your quiz score on week {}: {}<br>\n",
    "               The distribution for this quiz: {} <br><br>\n",
    "               Regards,<br>\n",
    "               Instructors\n",
    "            </p>\n",
    "          </body>\n",
    "        </html>\n",
    "        \"\"\"\n",
    "\n",
    "\n",
    "def send(server, mail, name, score):\n",
    "    msg = MIMEText(content_template.format(name, k, score, quiz_distribution), 'html')\n",
    "    msg['From'] = user_name\n",
    "    msg['Subject'] = title\n",
    "    if DEBUG:\n",
    "        msg['To'] = user_name\n",
    "    else:\n",
    "        msg['To'] = mail\n",
    "    server.send_message(msg)\n"
   ]
  },
  {
   "cell_type": "code",
   "execution_count": 3,
   "metadata": {},
   "outputs": [],
   "source": [
    "## data loading\n",
    "excel_file = \"D:\\\\BaiduNetdiskDownload\\\\bypy\\\\sist-course\" \\\n",
    "             \"\\\\Advanced-Geometry\\\\quizzes\\\\quiz-all.xlsx\"\n",
    "data_frame = pd.read_excel(excel_file)\n",
    "\n",
    "num_students = len(data_frame['Name'])\n",
    "# print(data_length)\n",
    "# print(data_frame['姓名'][0], data_frame['Email'][0], data_frame[quiz_on_week_k][0])"
   ]
  },
  {
   "cell_type": "code",
   "execution_count": 4,
   "metadata": {},
   "outputs": [
    {
     "name": "stdout",
     "output_type": "stream",
     "text": [
      "Connected!\n"
     ]
    },
    {
     "name": "stdout",
     "output_type": "stream",
     "text": [
      "Logged in!\n"
     ]
    }
   ],
   "source": [
    "## connect to the server\n",
    "def connect(user_smtp_server, user_smtp_port, user_account, user_password):\n",
    "    server = smtplib.SMTP(user_smtp_server, user_smtp_port)\n",
    "    reply = server.ehlo()\n",
    "    if reply[0] == 250:\n",
    "        print('Connected!', flush=True)\n",
    "    else:\n",
    "        print('Failed to connect!', flush=True)\n",
    "        exit(1)\n",
    "    server.starttls()\n",
    "    reply = server.login(user_account, user_password)\n",
    "    if reply[0] == 235:\n",
    "        print('Logged in!', flush=True)\n",
    "    else:\n",
    "        server.quit()\n",
    "        print('Failed to login!', flush=True)\n",
    "        exit(1)\n",
    "    return server\n",
    "\n",
    "\n",
    "smtp_server = connect(smtp_server_addr, smtp_port, user_name, password)\n"
   ]
  },
  {
   "cell_type": "code",
   "execution_count": null,
   "metadata": {},
   "outputs": [],
   "source": [
    "## send the email to each student\n",
    "for i in range(num_students):\n",
    "    name = data_frame['Name'][i]\n",
    "    email = data_frame['Email'][i]\n",
    "    score = data_frame[quiz_on_week_k][i]\n",
    "    print(\"I am sending to #{}, {}, {}#\".format(name, email, score))\n",
    "    \n",
    "    try:\n",
    "        send(server=smtp_server, mail=email, name=name, score=score)\n",
    "        print(\"Success!\", flush=True)\n",
    "    except:\n",
    "        smtp_server.quit()\n",
    "        print(\"Failed!\", flush=True)\n",
    "        exit(1)\n",
    "    \n",
    "    if i % 5 == 4:\n",
    "        smtp_server.quit()\n",
    "        print('Waiting for timeout ... ', end='', flush=True)\n",
    "        time.sleep(65)\n",
    "        print('Done.', flush=True)\n",
    "        smtp_server = connect(smtp_server_addr, smtp_port, user_name, password)\n",
    "\n",
    "smtp_server.quit()"
   ]
  }
 ],
 "metadata": {
  "kernelspec": {
   "display_name": "Python 2",
   "language": "python",
   "name": "python2"
  },
  "language_info": {
   "codemirror_mode": {
    "name": "ipython",
    "version": 2
   },
   "file_extension": ".py",
   "mimetype": "text/x-python",
   "name": "python",
   "nbconvert_exporter": "python",
   "pygments_lexer": "ipython2",
   "version": "2.7.6"
  }
 },
 "nbformat": 4,
 "nbformat_minor": 0
}
